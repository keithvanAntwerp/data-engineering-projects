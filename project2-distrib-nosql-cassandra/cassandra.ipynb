{
 "cells": [
  {
   "cell_type": "markdown",
   "metadata": {},
   "source": [
    "# Apache Cassandra Excercise\n",
    "\n",
    "+ create table\n",
    "+ insert rows of data\n",
    "+ execute CQL query\n",
    "+ denormalization\n",
    "+ 1 table/query encouraged in Cassandra\n",
    "+ focus on creating tables with primary key\n",
    "\n",
    "## Defintions\n",
    "\n",
    "**keyspace**: a namespace that defines data replication on nodes. A cluster contains one keyspace per node. \n",
    "\n",
    "`CREATE KEYSPACE <identifier> WITH <properties>`\n",
    "\n",
    "**Replica Placement Strategy**: \n",
    "\n",
    "**order**: (arrangement OR disposition) of (people OR things) *in relation* to each other according to a particular sequence, pattern, or method.\n",
    "\n",
    "+ arrangement\n",
    "+ objects\n",
    "+ relation\n",
    "+ according\n",
    "+ sequence\n",
    "+ pattern\n",
    "+ method\n",
    "\n",
    "**schema**: A representation of a plan or theory in the form of an outline or model.\n",
    "\n",
    "+ representation\n",
    "+ plan\n",
    "+ theory\n",
    "+ form\n",
    "+ outline\n",
    "+ model\n",
    "\n",
    "## Philosophical Foundations of Nature and Form\n",
    "\n",
    "1. Classify Patterns\n",
    "\n",
    "There is nature and our formal perceptions of nature (experiences?).\n",
    "\n",
    "### A Snake Eating Its Tail\n",
    "\n",
    "Nature contains systems that contain a quasi-formal perceptual representation (at least locally) of Nature.\n",
    "\n",
    "I think. I conscioussly mind. This is my essence. My consciousness, including the sensory perceptions, the linguistic and cognitive constructs are in essence a representation of a local part of nature.\n",
    "\n",
    "\n",
    "\n"
   ]
  },
  {
   "cell_type": "code",
   "execution_count": null,
   "metadata": {},
   "outputs": [],
   "source": []
  }
 ],
 "metadata": {
  "kernelspec": {
   "display_name": "Python 3",
   "language": "python",
   "name": "python3"
  },
  "language_info": {
   "codemirror_mode": {
    "name": "ipython",
    "version": 3
   },
   "file_extension": ".py",
   "mimetype": "text/x-python",
   "name": "python",
   "nbconvert_exporter": "python",
   "pygments_lexer": "ipython3",
   "version": "3.6.8"
  }
 },
 "nbformat": 4,
 "nbformat_minor": 2
}
