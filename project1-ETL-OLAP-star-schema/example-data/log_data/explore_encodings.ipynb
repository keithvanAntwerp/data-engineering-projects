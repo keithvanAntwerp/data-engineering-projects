{
 "cells": [
  {
   "cell_type": "markdown",
   "metadata": {},
   "source": [
    "## Explore Encodings\n",
    "```\n",
    "a_string = u'a sequence of unicode codepoints Ω'\n",
    "\n",
    "# byte literal can only contain ASCII characters\n",
    "\n",
    "```\n",
    "\n",
    "https://docs.python.org/3/howto/unicode.html\n",
    "\n",
    ">One-character Unicode strings can also be created with the chr() built-in function, which takes integers and returns a Unicode string of length 1 that contains the corresponding code point. The reverse operation is the built-in ord() function that takes a one-character Unicode string and returns the code point value:\n",
    "\n",
    "```\n",
    ">>>\n",
    ">>> chr(57344)\n",
    "'\\ue000'\n",
    ">>> ord('\\ue000')\n",
    "57344\n",
    "```\n"
   ]
  },
  {
   "cell_type": "code",
   "execution_count": 31,
   "metadata": {},
   "outputs": [
    {
     "name": "stdout",
     "output_type": "stream",
     "text": [
      "a sequence of unicode codepoints Ω\n"
     ]
    }
   ],
   "source": [
    "a_string = u'a sequence of unicode codepoints Ω'\n",
    "print(a_string)"
   ]
  },
  {
   "cell_type": "code",
   "execution_count": 36,
   "metadata": {},
   "outputs": [
    {
     "data": {
      "text/plain": [
       "11"
      ]
     },
     "execution_count": 36,
     "metadata": {},
     "output_type": "execute_result"
    }
   ],
   "source": [
    "t = \"R\\u00c3\\u0083\\u00c2\\u00b6yksopp\"\n",
    "len(t)\n",
    "#t.decode('unicode-escape')\n",
    "#new_text = t.decode('latin1').encode('utf-8').decode('latin1').encode('utf-8')"
   ]
  },
  {
   "cell_type": "code",
   "execution_count": 38,
   "metadata": {},
   "outputs": [
    {
     "name": "stdout",
     "output_type": "stream",
     "text": [
      "RÃÂ¶yksopp\n"
     ]
    },
    {
     "data": {
      "text/plain": [
       "195"
      ]
     },
     "execution_count": 38,
     "metadata": {},
     "output_type": "execute_result"
    }
   ],
   "source": [
    "print(t)\n",
    "ord('\\u00c3')"
   ]
  },
  {
   "cell_type": "code",
   "execution_count": 19,
   "metadata": {},
   "outputs": [
    {
     "data": {
      "text/plain": [
       "b'\\x00\\x00a'"
      ]
     },
     "execution_count": 19,
     "metadata": {},
     "output_type": "execute_result"
    }
   ],
   "source": [
    "bytes.fromhex('4a4b4c').decode('utf-8')\n",
    "bytes.fromhex('000061')"
   ]
  },
  {
   "cell_type": "code",
   "execution_count": 21,
   "metadata": {},
   "outputs": [
    {
     "data": {
      "text/plain": [
       "b'R\\\\u00c3\\\\u0083\\\\u00c2\\\\u00b6yksopp'"
      ]
     },
     "execution_count": 21,
     "metadata": {},
     "output_type": "execute_result"
    }
   ],
   "source": [
    "new_text"
   ]
  },
  {
   "cell_type": "code",
   "execution_count": 22,
   "metadata": {},
   "outputs": [
    {
     "name": "stdout",
     "output_type": "stream",
     "text": [
      "b'R\\\\u00c3\\\\u0083\\\\u00c2\\\\u00b6yksopp'\n"
     ]
    }
   ],
   "source": [
    "print(new_text)"
   ]
  },
  {
   "cell_type": "code",
   "execution_count": 26,
   "metadata": {},
   "outputs": [],
   "source": [
    "tt = \"\\u0097\""
   ]
  },
  {
   "cell_type": "code",
   "execution_count": 28,
   "metadata": {},
   "outputs": [
    {
     "data": {
      "text/plain": [
       "b'\\xc2\\x97'"
      ]
     },
     "execution_count": 28,
     "metadata": {},
     "output_type": "execute_result"
    }
   ],
   "source": [
    "tt.encode('utf-8')"
   ]
  },
  {
   "cell_type": "code",
   "execution_count": 29,
   "metadata": {},
   "outputs": [
    {
     "ename": "SyntaxError",
     "evalue": "bytes can only contain ASCII literal characters. (<ipython-input-29-787cb07efbfc>, line 1)",
     "output_type": "error",
     "traceback": [
      "\u001b[0;36m  File \u001b[0;32m\"<ipython-input-29-787cb07efbfc>\"\u001b[0;36m, line \u001b[0;32m1\u001b[0m\n\u001b[0;31m    b'Ω'\u001b[0m\n\u001b[0m        ^\u001b[0m\n\u001b[0;31mSyntaxError\u001b[0m\u001b[0;31m:\u001b[0m bytes can only contain ASCII literal characters.\n"
     ]
    }
   ],
   "source": [
    "b'Ω'"
   ]
  },
  {
   "cell_type": "markdown",
   "metadata": {},
   "source": [
    "\n",
    "denormalization\n",
    "\n",
    "2 different queries -> 2 different tables!\n",
    "\n",
    "partition key\n",
    "clustering column\n",
    "\n",
    "partition key\n",
    "\n",
    "DENORMALIZE! Think about your queries first! No Joins in Cassandra!\n",
    "\n",
    "Migrating from relational to Cassandra? Must transform! Denormalize!\n",
    "\n",
    "Apache Cassandra optimized for fast writes.\n",
    "\n",
    "Usually, denormalized tables are slow for writes. OLTP are typically relational and 3NF.\n",
    "\n",
    "https://docs.datastax.com/en/dse/6.7/cql/cql/ddl/dataModelingApproach.html\n"
   ]
  }
 ],
 "metadata": {
  "kernelspec": {
   "display_name": "Python 3",
   "language": "python",
   "name": "python3"
  },
  "language_info": {
   "codemirror_mode": {
    "name": "ipython",
    "version": 3
   },
   "file_extension": ".py",
   "mimetype": "text/x-python",
   "name": "python",
   "nbconvert_exporter": "python",
   "pygments_lexer": "ipython3",
   "version": "3.6.8"
  }
 },
 "nbformat": 4,
 "nbformat_minor": 2
}
